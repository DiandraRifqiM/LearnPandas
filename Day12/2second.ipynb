{
 "cells": [
  {
   "cell_type": "code",
   "execution_count": 2,
   "metadata": {},
   "outputs": [
    {
     "data": {
      "text/plain": [
       "Timestamp('1678-12-31 23:59:59.999999999')"
      ]
     },
     "execution_count": 2,
     "metadata": {},
     "output_type": "execute_result"
    }
   ],
   "source": [
    "import pandas as pd\n",
    "\n",
    "# Pandas Perios\n",
    "\n",
    "# Years\n",
    "Y = pd.Period('1678', freq=\"Y\")\n",
    "# Y.start_time\n",
    "Y.end_time\n"
   ]
  },
  {
   "cell_type": "code",
   "execution_count": 3,
   "metadata": {},
   "outputs": [
    {
     "data": {
      "text/plain": [
       "Period('2025-06', 'M')"
      ]
     },
     "execution_count": 3,
     "metadata": {},
     "output_type": "execute_result"
    }
   ],
   "source": [
    "# Month\n",
    "M = pd.Period('1735-1', freq=\"M\")\n",
    "M.start_time\n",
    "# M.end_time\n",
    "M+3485"
   ]
  },
  {
   "cell_type": "code",
   "execution_count": 4,
   "metadata": {},
   "outputs": [
    {
     "data": {
      "text/plain": [
       "Timestamp('1854-01-01 23:59:59.999999999')"
      ]
     },
     "execution_count": 4,
     "metadata": {},
     "output_type": "execute_result"
    }
   ],
   "source": [
    "# Day\n",
    "D = pd.Period('1854-1-1', freq=\"D\")\n",
    "D.start_time\n",
    "D.end_time"
   ]
  },
  {
   "cell_type": "code",
   "execution_count": 5,
   "metadata": {},
   "outputs": [
    {
     "data": {
      "text/plain": [
       "Period('1747-01-03 23:00', 'h')"
      ]
     },
     "execution_count": 5,
     "metadata": {},
     "output_type": "execute_result"
    }
   ],
   "source": [
    "# Hours\n",
    "H = pd.Period(\"1747-1-1 01:00:00\", freq=\"h\")\n",
    "# H.start_time\n",
    "# H.end_time\n",
    "H-25\n",
    "H+pd.offsets.Hour(70)"
   ]
  },
  {
   "cell_type": "code",
   "execution_count": 15,
   "metadata": {},
   "outputs": [
    {
     "data": {
      "text/plain": [
       "Timestamp('2023-02-01 00:00:00')"
      ]
     },
     "execution_count": 15,
     "metadata": {},
     "output_type": "execute_result"
    }
   ],
   "source": [
    "# Quarter Time Period\n",
    "\n",
    "q = pd.Period(\"2024Q1\", freq=\"Q-JAN\")\n",
    "q.start_time"
   ]
  },
  {
   "cell_type": "code",
   "execution_count": 22,
   "metadata": {},
   "outputs": [
    {
     "data": {
      "text/plain": [
       "PeriodIndex(['2019Q4', '2020Q1', '2020Q2', '2020Q3', '2020Q4', '2021Q1',\n",
       "             '2021Q2', '2021Q3', '2021Q4', '2022Q1', '2022Q2', '2022Q3',\n",
       "             '2022Q4', '2023Q1', '2023Q2', '2023Q3', '2023Q4', '2024Q1',\n",
       "             '2024Q2', '2024Q3', '2024Q4'],\n",
       "            dtype='period[Q-JAN]')"
      ]
     },
     "execution_count": 22,
     "metadata": {},
     "output_type": "execute_result"
    }
   ],
   "source": [
    "# Periode Index\n",
    "idx = pd.period_range('2019', '2024', freq=\"Q-JAN\")\n",
    "idx"
   ]
  },
  {
   "cell_type": "code",
   "execution_count": 24,
   "metadata": {},
   "outputs": [
    {
     "data": {
      "text/plain": [
       "2019Q4   -0.724547\n",
       "2020Q1   -0.518177\n",
       "2020Q2   -0.659642\n",
       "2020Q3    1.749926\n",
       "2020Q4    0.720258\n",
       "2021Q1    0.756795\n",
       "2021Q2   -1.705653\n",
       "2021Q3   -0.477795\n",
       "2021Q4   -0.033519\n",
       "2022Q1    0.380471\n",
       "2022Q2   -0.694161\n",
       "2022Q3    0.354498\n",
       "2022Q4    0.497226\n",
       "2023Q1    0.508006\n",
       "2023Q2   -0.191011\n",
       "2023Q3   -0.478984\n",
       "2023Q4   -2.098457\n",
       "2024Q1    1.115340\n",
       "2024Q2    0.754332\n",
       "2024Q3   -0.089447\n",
       "2024Q4   -0.188445\n",
       "Freq: Q-JAN, dtype: float64"
      ]
     },
     "execution_count": 24,
     "metadata": {},
     "output_type": "execute_result"
    }
   ],
   "source": [
    "import numpy as np\n",
    "\n",
    "ps = pd.Series(np.random.randn(len(idx)), idx)\n",
    "ps"
   ]
  }
 ],
 "metadata": {
  "kernelspec": {
   "display_name": "Python 3",
   "language": "python",
   "name": "python3"
  },
  "language_info": {
   "codemirror_mode": {
    "name": "ipython",
    "version": 3
   },
   "file_extension": ".py",
   "mimetype": "text/x-python",
   "name": "python",
   "nbconvert_exporter": "python",
   "pygments_lexer": "ipython3",
   "version": "3.12.5"
  }
 },
 "nbformat": 4,
 "nbformat_minor": 2
}
