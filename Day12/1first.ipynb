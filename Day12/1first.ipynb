{
 "cells": [
  {
   "cell_type": "code",
   "execution_count": 16,
   "metadata": {},
   "outputs": [
    {
     "data": {
      "text/html": [
       "<div>\n",
       "<style scoped>\n",
       "    .dataframe tbody tr th:only-of-type {\n",
       "        vertical-align: middle;\n",
       "    }\n",
       "\n",
       "    .dataframe tbody tr th {\n",
       "        vertical-align: top;\n",
       "    }\n",
       "\n",
       "    .dataframe thead th {\n",
       "        text-align: right;\n",
       "    }\n",
       "</style>\n",
       "<table border=\"1\" class=\"dataframe\">\n",
       "  <thead>\n",
       "    <tr style=\"text-align: right;\">\n",
       "      <th></th>\n",
       "      <th>Open</th>\n",
       "      <th>Close</th>\n",
       "      <th>High</th>\n",
       "      <th>Low</th>\n",
       "      <th>Volume</th>\n",
       "    </tr>\n",
       "  </thead>\n",
       "  <tbody>\n",
       "    <tr>\n",
       "      <th>0</th>\n",
       "      <td>42.93</td>\n",
       "      <td>42.93</td>\n",
       "      <td>42.96</td>\n",
       "      <td>42.56</td>\n",
       "      <td>729738</td>\n",
       "    </tr>\n",
       "    <tr>\n",
       "      <th>1</th>\n",
       "      <td>42.60</td>\n",
       "      <td>42.60</td>\n",
       "      <td>43.15</td>\n",
       "      <td>42.60</td>\n",
       "      <td>660183</td>\n",
       "    </tr>\n",
       "    <tr>\n",
       "      <th>2</th>\n",
       "      <td>42.93</td>\n",
       "      <td>42.93</td>\n",
       "      <td>42.96</td>\n",
       "      <td>42.27</td>\n",
       "      <td>1875091</td>\n",
       "    </tr>\n",
       "    <tr>\n",
       "      <th>3</th>\n",
       "      <td>42.62</td>\n",
       "      <td>42.62</td>\n",
       "      <td>43.66</td>\n",
       "      <td>42.62</td>\n",
       "      <td>952768</td>\n",
       "    </tr>\n",
       "    <tr>\n",
       "      <th>4</th>\n",
       "      <td>42.90</td>\n",
       "      <td>42.90</td>\n",
       "      <td>43.15</td>\n",
       "      <td>42.62</td>\n",
       "      <td>402361</td>\n",
       "    </tr>\n",
       "  </tbody>\n",
       "</table>\n",
       "</div>"
      ],
      "text/plain": [
       "    Open  Close   High    Low   Volume\n",
       "0  42.93  42.93  42.96  42.56   729738\n",
       "1  42.60  42.60  43.15  42.60   660183\n",
       "2  42.93  42.93  42.96  42.27  1875091\n",
       "3  42.62  42.62  43.66  42.62   952768\n",
       "4  42.90  42.90  43.15  42.62   402361"
      ]
     },
     "execution_count": 16,
     "metadata": {},
     "output_type": "execute_result"
    }
   ],
   "source": [
    "import pandas as pd\n",
    "\n",
    "\n",
    "df = pd.read_csv(r\"D:\\Python Course\\Dealing With Pandas\\csv\\Day12.csv\")\n",
    "\n",
    "# Replace Comma\n",
    "df[\"Open\"] = (df[\"Open\"].astype(str).str.replace(\",\",\".\").str.strip())\n",
    "df[\"Close\"] = (df[\"Open\"].astype(str).str.replace(\",\",\".\").str.strip())\n",
    "df[\"High\"] = (df[\"High\"].astype(str).str.replace(\",\",\".\").str.strip())\n",
    "df[\"Low\"] = (df[\"Low\"].astype(str).str.replace(\",\",\".\").str.strip())\n",
    "\n",
    "# Parse to Num\n",
    "df[\"Open\"] = pd.to_numeric(df[\"Open\"])\n",
    "df[\"Close\"] = pd.to_numeric(df[\"Close\"])\n",
    "df[\"High\"] = pd.to_numeric(df[\"High\"])\n",
    "df[\"Low\"] = pd.to_numeric(df[\"Low\"])\n",
    "df[\"Volume\"] = pd.to_numeric(df[\"Volume\"])\n",
    "\n",
    "df[:5]"
   ]
  },
  {
   "cell_type": "code",
   "execution_count": 20,
   "metadata": {},
   "outputs": [],
   "source": [
    "# Make US Bussiness Calendar\n",
    "from pandas.tseries.holiday import USFederalHolidayCalendar as US_Cal\n",
    "from pandas.tseries.offsets import CustomBusinessDay as CBS\n",
    "\n",
    "usB = CBS(calendar=US_Cal())"
   ]
  },
  {
   "cell_type": "code",
   "execution_count": 23,
   "metadata": {},
   "outputs": [
    {
     "data": {
      "text/plain": [
       "DatetimeIndex(['2024-06-17', '2024-06-18', '2024-06-20', '2024-06-21',\n",
       "               '2024-06-24', '2024-06-25', '2024-06-26', '2024-06-27',\n",
       "               '2024-06-28', '2024-07-01', '2024-07-02', '2024-07-03',\n",
       "               '2024-07-05'],\n",
       "              dtype='datetime64[ns]', freq='C')"
      ]
     },
     "execution_count": 23,
     "metadata": {},
     "output_type": "execute_result"
    }
   ],
   "source": [
    "# Make Date Range W/ usB\n",
    "\n",
    "dateRange = pd.date_range(start=\"2024/6/16\", end=\"2024/7/5\", freq=usB)\n",
    "dateRange"
   ]
  },
  {
   "cell_type": "code",
   "execution_count": 25,
   "metadata": {},
   "outputs": [],
   "source": [
    "# Set Date Into Index\n",
    "df.set_index(dateRange, inplace=True)"
   ]
  },
  {
   "cell_type": "code",
   "execution_count": 51,
   "metadata": {},
   "outputs": [
    {
     "data": {
      "text/plain": [
       "<Axes: >"
      ]
     },
     "execution_count": 51,
     "metadata": {},
     "output_type": "execute_result"
    },
    {
     "data": {
      "image/png": "[encoded data removed]",
      "text/plain": [
       "<Figure size 640x480 with 1 Axes>"
      ]
     },
     "metadata": {},
     "output_type": "display_data"
    }
   ],
   "source": [
    "df\n",
    "%matplotlib inline\n",
    "df.loc[\"2024-06-17\":\"2024-07-1\"].Open.resample(\"W\").mean().dropna().plot(kind=\"line\")"
   ]
  }
 ],
 "metadata": {
  "kernelspec": {
   "display_name": "Python 3",
   "language": "python",
   "name": "python3"
  },
  "language_info": {
   "codemirror_mode": {
    "name": "ipython",
    "version": 3
   },
   "file_extension": ".py",
   "mimetype": "text/x-python",
   "name": "python",
   "nbconvert_exporter": "python",
   "pygments_lexer": "ipython3",
   "version": "3.12.5"
  }
 },
 "nbformat": 4,
 "nbformat_minor": 2
}
