{
 "cells": [
  {
   "cell_type": "code",
   "execution_count": 28,
   "metadata": {},
   "outputs": [
    {
     "data": {
      "text/html": [
       "<div>\n",
       "<style scoped>\n",
       "    .dataframe tbody tr th:only-of-type {\n",
       "        vertical-align: middle;\n",
       "    }\n",
       "\n",
       "    .dataframe tbody tr th {\n",
       "        vertical-align: top;\n",
       "    }\n",
       "\n",
       "    .dataframe thead th {\n",
       "        text-align: right;\n",
       "    }\n",
       "</style>\n",
       "<table border=\"1\" class=\"dataframe\">\n",
       "  <thead>\n",
       "    <tr style=\"text-align: right;\">\n",
       "      <th></th>\n",
       "      <th>Open</th>\n",
       "    </tr>\n",
       "    <tr>\n",
       "      <th>Date</th>\n",
       "      <th></th>\n",
       "    </tr>\n",
       "  </thead>\n",
       "  <tbody>\n",
       "    <tr>\n",
       "      <th>2025-06-02 16:00:00</th>\n",
       "      <td>457.14</td>\n",
       "    </tr>\n",
       "    <tr>\n",
       "      <th>2025-06-03 16:00:00</th>\n",
       "      <td>461.47</td>\n",
       "    </tr>\n",
       "    <tr>\n",
       "      <th>2025-06-04 16:00:00</th>\n",
       "      <td>464.00</td>\n",
       "    </tr>\n",
       "    <tr>\n",
       "      <th>2025-06-05 16:00:00</th>\n",
       "      <td>464.96</td>\n",
       "    </tr>\n",
       "    <tr>\n",
       "      <th>2025-06-06 16:00:00</th>\n",
       "      <td>470.09</td>\n",
       "    </tr>\n",
       "  </tbody>\n",
       "</table>\n",
       "</div>"
      ],
      "text/plain": [
       "                       Open\n",
       "Date                       \n",
       "2025-06-02 16:00:00  457.14\n",
       "2025-06-03 16:00:00  461.47\n",
       "2025-06-04 16:00:00  464.00\n",
       "2025-06-05 16:00:00  464.96\n",
       "2025-06-06 16:00:00  470.09"
      ]
     },
     "execution_count": 28,
     "metadata": {},
     "output_type": "execute_result"
    }
   ],
   "source": [
    "import pandas as pd\n",
    "\n",
    "df = pd.read_csv(r\"D:\\Python Course\\Dealing With Pandas\\csv\\Day12 - Sheet2.csv\")\n",
    "\n",
    "df[\"Open\"] = (df[\"Open\"].astype(str).str.replace(\",\",\".\").str.strip())\n",
    "# df[\"Date\"] = (df[\"Date\"].astype(str).str.replace(\"/\",\"-\").str.strip())\n",
    "df[\"Open\"] = pd.to_numeric(df[\"Open\"])\n",
    "df[\"Date\"] = pd.to_datetime(df[\"Date\"], dayfirst= True)\n",
    "df.set_index(\"Date\", inplace=True)\n",
    "df[:5]"
   ]
  },
  {
   "cell_type": "code",
   "execution_count": 29,
   "metadata": {},
   "outputs": [
    {
     "data": {
      "text/plain": [
       "DatetimeIndex(['2025-06-02 16:00:00+01:00', '2025-06-03 16:00:00+01:00',\n",
       "               '2025-06-04 16:00:00+01:00', '2025-06-05 16:00:00+01:00',\n",
       "               '2025-06-06 16:00:00+01:00', '2025-06-09 16:00:00+01:00',\n",
       "               '2025-06-10 16:00:00+01:00', '2025-06-11 16:00:00+01:00',\n",
       "               '2025-06-12 16:00:00+01:00', '2025-06-13 16:00:00+01:00',\n",
       "               '2025-06-16 16:00:00+01:00', '2025-06-17 16:00:00+01:00',\n",
       "               '2025-06-18 16:00:00+01:00', '2025-06-20 16:00:00+01:00',\n",
       "               '2025-06-23 16:00:00+01:00', '2025-06-24 16:00:00+01:00',\n",
       "               '2025-06-25 16:00:00+01:00'],\n",
       "              dtype='datetime64[ns, Europe/London]', name='Date', freq=None)"
      ]
     },
     "execution_count": 29,
     "metadata": {},
     "output_type": "execute_result"
    }
   ],
   "source": [
    "#Change the time to use localize timezone\n",
    "df = df.tz_localize(tz=\"Europe/London\")\n",
    "df.index"
   ]
  },
  {
   "cell_type": "code",
   "execution_count": 30,
   "metadata": {},
   "outputs": [
    {
     "data": {
      "text/html": [
       "<div>\n",
       "<style scoped>\n",
       "    .dataframe tbody tr th:only-of-type {\n",
       "        vertical-align: middle;\n",
       "    }\n",
       "\n",
       "    .dataframe tbody tr th {\n",
       "        vertical-align: top;\n",
       "    }\n",
       "\n",
       "    .dataframe thead th {\n",
       "        text-align: right;\n",
       "    }\n",
       "</style>\n",
       "<table border=\"1\" class=\"dataframe\">\n",
       "  <thead>\n",
       "    <tr style=\"text-align: right;\">\n",
       "      <th></th>\n",
       "      <th>Open</th>\n",
       "    </tr>\n",
       "    <tr>\n",
       "      <th>Date</th>\n",
       "      <th></th>\n",
       "    </tr>\n",
       "  </thead>\n",
       "  <tbody>\n",
       "    <tr>\n",
       "      <th>2025-06-02 16:00:00+01:00</th>\n",
       "      <td>457.14</td>\n",
       "    </tr>\n",
       "    <tr>\n",
       "      <th>2025-06-03 16:00:00+01:00</th>\n",
       "      <td>461.47</td>\n",
       "    </tr>\n",
       "    <tr>\n",
       "      <th>2025-06-04 16:00:00+01:00</th>\n",
       "      <td>464.00</td>\n",
       "    </tr>\n",
       "    <tr>\n",
       "      <th>2025-06-05 16:00:00+01:00</th>\n",
       "      <td>464.96</td>\n",
       "    </tr>\n",
       "    <tr>\n",
       "      <th>2025-06-06 16:00:00+01:00</th>\n",
       "      <td>470.09</td>\n",
       "    </tr>\n",
       "    <tr>\n",
       "      <th>2025-06-09 16:00:00+01:00</th>\n",
       "      <td>469.70</td>\n",
       "    </tr>\n",
       "    <tr>\n",
       "      <th>2025-06-10 16:00:00+01:00</th>\n",
       "      <td>471.19</td>\n",
       "    </tr>\n",
       "    <tr>\n",
       "      <th>2025-06-11 16:00:00+01:00</th>\n",
       "      <td>470.02</td>\n",
       "    </tr>\n",
       "    <tr>\n",
       "      <th>2025-06-12 16:00:00+01:00</th>\n",
       "      <td>475.02</td>\n",
       "    </tr>\n",
       "    <tr>\n",
       "      <th>2025-06-13 16:00:00+01:00</th>\n",
       "      <td>476.41</td>\n",
       "    </tr>\n",
       "  </tbody>\n",
       "</table>\n",
       "</div>"
      ],
      "text/plain": [
       "                             Open\n",
       "Date                             \n",
       "2025-06-02 16:00:00+01:00  457.14\n",
       "2025-06-03 16:00:00+01:00  461.47\n",
       "2025-06-04 16:00:00+01:00  464.00\n",
       "2025-06-05 16:00:00+01:00  464.96\n",
       "2025-06-06 16:00:00+01:00  470.09\n",
       "2025-06-09 16:00:00+01:00  469.70\n",
       "2025-06-10 16:00:00+01:00  471.19\n",
       "2025-06-11 16:00:00+01:00  470.02\n",
       "2025-06-12 16:00:00+01:00  475.02\n",
       "2025-06-13 16:00:00+01:00  476.41"
      ]
     },
     "execution_count": 30,
     "metadata": {},
     "output_type": "execute_result"
    }
   ],
   "source": [
    "# London Time\n",
    "df.head(10)"
   ]
  },
  {
   "cell_type": "code",
   "execution_count": 32,
   "metadata": {},
   "outputs": [
    {
     "data": {
      "text/html": [
       "<div>\n",
       "<style scoped>\n",
       "    .dataframe tbody tr th:only-of-type {\n",
       "        vertical-align: middle;\n",
       "    }\n",
       "\n",
       "    .dataframe tbody tr th {\n",
       "        vertical-align: top;\n",
       "    }\n",
       "\n",
       "    .dataframe thead th {\n",
       "        text-align: right;\n",
       "    }\n",
       "</style>\n",
       "<table border=\"1\" class=\"dataframe\">\n",
       "  <thead>\n",
       "    <tr style=\"text-align: right;\">\n",
       "      <th></th>\n",
       "      <th>Open</th>\n",
       "    </tr>\n",
       "    <tr>\n",
       "      <th>Date</th>\n",
       "      <th></th>\n",
       "    </tr>\n",
       "  </thead>\n",
       "  <tbody>\n",
       "    <tr>\n",
       "      <th>2025-06-02 22:00:00+07:00</th>\n",
       "      <td>457.14</td>\n",
       "    </tr>\n",
       "    <tr>\n",
       "      <th>2025-06-03 22:00:00+07:00</th>\n",
       "      <td>461.47</td>\n",
       "    </tr>\n",
       "    <tr>\n",
       "      <th>2025-06-04 22:00:00+07:00</th>\n",
       "      <td>464.00</td>\n",
       "    </tr>\n",
       "    <tr>\n",
       "      <th>2025-06-05 22:00:00+07:00</th>\n",
       "      <td>464.96</td>\n",
       "    </tr>\n",
       "    <tr>\n",
       "      <th>2025-06-06 22:00:00+07:00</th>\n",
       "      <td>470.09</td>\n",
       "    </tr>\n",
       "    <tr>\n",
       "      <th>2025-06-09 22:00:00+07:00</th>\n",
       "      <td>469.70</td>\n",
       "    </tr>\n",
       "    <tr>\n",
       "      <th>2025-06-10 22:00:00+07:00</th>\n",
       "      <td>471.19</td>\n",
       "    </tr>\n",
       "    <tr>\n",
       "      <th>2025-06-11 22:00:00+07:00</th>\n",
       "      <td>470.02</td>\n",
       "    </tr>\n",
       "    <tr>\n",
       "      <th>2025-06-12 22:00:00+07:00</th>\n",
       "      <td>475.02</td>\n",
       "    </tr>\n",
       "    <tr>\n",
       "      <th>2025-06-13 22:00:00+07:00</th>\n",
       "      <td>476.41</td>\n",
       "    </tr>\n",
       "  </tbody>\n",
       "</table>\n",
       "</div>"
      ],
      "text/plain": [
       "                             Open\n",
       "Date                             \n",
       "2025-06-02 22:00:00+07:00  457.14\n",
       "2025-06-03 22:00:00+07:00  461.47\n",
       "2025-06-04 22:00:00+07:00  464.00\n",
       "2025-06-05 22:00:00+07:00  464.96\n",
       "2025-06-06 22:00:00+07:00  470.09\n",
       "2025-06-09 22:00:00+07:00  469.70\n",
       "2025-06-10 22:00:00+07:00  471.19\n",
       "2025-06-11 22:00:00+07:00  470.02\n",
       "2025-06-12 22:00:00+07:00  475.02\n",
       "2025-06-13 22:00:00+07:00  476.41"
      ]
     },
     "execution_count": 32,
     "metadata": {},
     "output_type": "execute_result"
    }
   ],
   "source": [
    "# Convert to Jakarta Time\n",
    "df = df.tz_convert(tz=\"Asia/Jakarta\")\n",
    "df[:10]"
   ]
  },
  {
   "cell_type": "code",
   "execution_count": 40,
   "metadata": {},
   "outputs": [
    {
     "data": {
      "text/plain": [
       "2025-06-07 08:00:00     0\n",
       "2025-06-07 09:00:00     1\n",
       "2025-06-07 10:00:00     2\n",
       "2025-06-07 11:00:00     3\n",
       "2025-06-07 12:00:00     4\n",
       "2025-06-07 13:00:00     5\n",
       "2025-06-07 14:00:00     6\n",
       "2025-06-07 15:00:00     7\n",
       "2025-06-07 16:00:00     8\n",
       "2025-06-07 17:00:00     9\n",
       "2025-06-07 18:00:00    10\n",
       "2025-06-07 19:00:00    11\n",
       "Freq: h, dtype: int64"
      ]
     },
     "execution_count": 40,
     "metadata": {},
     "output_type": "execute_result"
    }
   ],
   "source": [
    "rng = pd.date_range(start=\"2025-6-7 08:00:00\", periods=12, freq='h')\n",
    "s = pd.Series(range(12), index= rng)\n",
    "s"
   ]
  },
  {
   "cell_type": "code",
   "execution_count": 43,
   "metadata": {},
   "outputs": [
    {
     "data": {
      "text/plain": [
       "2025-06-07 08:00:00+02:00     0\n",
       "2025-06-07 09:00:00+02:00     1\n",
       "2025-06-07 10:00:00+02:00     2\n",
       "2025-06-07 11:00:00+02:00     3\n",
       "2025-06-07 12:00:00+02:00     4\n",
       "2025-06-07 13:00:00+02:00     5\n",
       "2025-06-07 14:00:00+02:00     6\n",
       "2025-06-07 15:00:00+02:00     7\n",
       "2025-06-07 16:00:00+02:00     8\n",
       "2025-06-07 17:00:00+02:00     9\n",
       "2025-06-07 18:00:00+02:00    10\n",
       "2025-06-07 19:00:00+02:00    11\n",
       "dtype: int64"
      ]
     },
     "execution_count": 43,
     "metadata": {},
     "output_type": "execute_result"
    }
   ],
   "source": [
    "b = s.tz_localize(tz=\"Europe/Paris\")\n",
    "b"
   ]
  },
  {
   "cell_type": "code",
   "execution_count": 46,
   "metadata": {},
   "outputs": [
    {
     "data": {
      "text/plain": [
       "2025-06-07 13:00:00+07:00     0\n",
       "2025-06-07 14:00:00+07:00     1\n",
       "2025-06-07 15:00:00+07:00     2\n",
       "2025-06-07 16:00:00+07:00     3\n",
       "2025-06-07 17:00:00+07:00     4\n",
       "2025-06-07 18:00:00+07:00     5\n",
       "2025-06-07 19:00:00+07:00     6\n",
       "2025-06-07 20:00:00+07:00     7\n",
       "2025-06-07 21:00:00+07:00     8\n",
       "2025-06-07 22:00:00+07:00     9\n",
       "2025-06-07 23:00:00+07:00    10\n",
       "2025-06-08 00:00:00+07:00    11\n",
       "dtype: int64"
      ]
     },
     "execution_count": 46,
     "metadata": {},
     "output_type": "execute_result"
    }
   ],
   "source": [
    "m = b.tz_convert(tz=\"Asia/Jakarta\")\n",
    "m"
   ]
  }
 ],
 "metadata": {
  "kernelspec": {
   "display_name": "Python 3",
   "language": "python",
   "name": "python3"
  },
  "language_info": {
   "codemirror_mode": {
    "name": "ipython",
    "version": 3
   },
   "file_extension": ".py",
   "mimetype": "text/x-python",
   "name": "python",
   "nbconvert_exporter": "python",
   "pygments_lexer": "ipython3",
   "version": "3.12.5"
  }
 },
 "nbformat": 4,
 "nbformat_minor": 2
}
