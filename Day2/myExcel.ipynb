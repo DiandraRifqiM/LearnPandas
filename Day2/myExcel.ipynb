{
 "cells": [
  {
   "cell_type": "code",
   "execution_count": 41,
   "metadata": {},
   "outputs": [],
   "source": [
    "import pandas as pd\n",
    "\n",
    "# Create Dataframe With Excel\n",
    "df = pd.read_excel(\"D:\\\\Python Course\\\\Dealing With Pandas\\\\csv\\\\Questioner IOT.xlsx\", engine=\"openpyxl\", header=3)\n",
    "df = df.dropna(axis=1, how=\"all\")\n",
    "\n",
    "# Show data where Qustion1 not caontain \"Belum\" and \"Tidak\" in Qustion2 & 3\n",
    "clean_df =df[~df[\"Question1\"].str.contains(r\"\\bbelum\\b\", case=False, na=False) \n",
    "   & ~df[\"Question2\"].str.contains(r\"\\btidak\\b\", case=False, na=False)\n",
    "   & ~df[\"Question3\"].str.contains(r\"\\btidak\\b\", case=False, na=False)]\n",
    "\n"
   ]
  },
  {
   "cell_type": "code",
   "execution_count": 1,
   "metadata": {},
   "outputs": [
    {
     "ename": "NameError",
     "evalue": "name 'clean_df' is not defined",
     "output_type": "error",
     "traceback": [
      "\u001b[31m---------------------------------------------------------------------------\u001b[39m",
      "\u001b[31mNameError\u001b[39m                                 Traceback (most recent call last)",
      "\u001b[36mCell\u001b[39m\u001b[36m \u001b[39m\u001b[32mIn[1]\u001b[39m\u001b[32m, line 1\u001b[39m\n\u001b[32m----> \u001b[39m\u001b[32m1\u001b[39m \u001b[43mclean_df\u001b[49m\n",
      "\u001b[31mNameError\u001b[39m: name 'clean_df' is not defined"
     ]
    }
   ],
   "source": [
    "clean_df"
   ]
  },
  {
   "cell_type": "code",
   "execution_count": null,
   "metadata": {},
   "outputs": [],
   "source": []
  }
 ],
 "metadata": {
  "kernelspec": {
   "display_name": "Python 3",
   "language": "python",
   "name": "python3"
  },
  "language_info": {
   "codemirror_mode": {
    "name": "ipython",
    "version": 3
   },
   "file_extension": ".py",
   "mimetype": "text/x-python",
   "name": "python",
   "nbconvert_exporter": "python",
   "pygments_lexer": "ipython3",
   "version": "3.12.5"
  }
 },
 "nbformat": 4,
 "nbformat_minor": 2
}
